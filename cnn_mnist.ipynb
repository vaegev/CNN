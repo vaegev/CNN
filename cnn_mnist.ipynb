{
  "nbformat": 4,
  "nbformat_minor": 0,
  "metadata": {
    "colab": {
      "name": "cnn_mnist.ipynb",
      "version": "0.3.2",
      "provenance": [],
      "collapsed_sections": []
    },
    "kernelspec": {
      "name": "python3",
      "display_name": "Python 3"
    },
    "accelerator": "TPU"
  },
  "cells": [
    {
      "metadata": {
        "id": "2JP_agzz6AAp",
        "colab_type": "code",
        "colab": {}
      },
      "cell_type": "code",
      "source": [
        "import numpy as np\n",
        "import pandas as pd"
      ],
      "execution_count": 0,
      "outputs": []
    },
    {
      "metadata": {
        "id": "0n3wOWmG2a9l",
        "colab_type": "code",
        "colab": {
          "base_uri": "https://localhost:8080/",
          "height": 71
        },
        "outputId": "d6c41237-c3a5-48a2-a1de-032c489c3029"
      },
      "cell_type": "code",
      "source": [
        "import keras\n",
        "from keras.datasets import mnist\n",
        "from keras.utils import np_utils\n",
        "(x_train, y_train), (x_test, y_test) = mnist.load_data()"
      ],
      "execution_count": 2,
      "outputs": [
        {
          "output_type": "stream",
          "text": [
            "Using TensorFlow backend.\n"
          ],
          "name": "stderr"
        },
        {
          "output_type": "stream",
          "text": [
            "Downloading data from https://s3.amazonaws.com/img-datasets/mnist.npz\n",
            "11493376/11490434 [==============================] - 1s 0us/step\n"
          ],
          "name": "stdout"
        }
      ]
    },
    {
      "metadata": {
        "id": "wBoPHK6DCZn9",
        "colab_type": "code",
        "colab": {}
      },
      "cell_type": "code",
      "source": [
        "x_train = x_train.astype('float32')\n",
        "x_test = x_test.astype('float32')\n",
        "\n",
        "x_train /= 255\n",
        "x_test /= 255"
      ],
      "execution_count": 0,
      "outputs": []
    },
    {
      "metadata": {
        "id": "VkH20GZDCTYl",
        "colab_type": "code",
        "colab": {}
      },
      "cell_type": "code",
      "source": [
        "y_train = np_utils.to_categorical(y_train, 10)\n",
        "y_test = np_utils.to_categorical(y_test, 10)"
      ],
      "execution_count": 0,
      "outputs": []
    },
    {
      "metadata": {
        "id": "9bATSiVnFZ_n",
        "colab_type": "code",
        "colab": {
          "base_uri": "https://localhost:8080/",
          "height": 53
        },
        "outputId": "20efa3c2-434f-4472-a55f-1c76760b5a66"
      },
      "cell_type": "code",
      "source": [
        "x_train = x_train.reshape((x_train.shape[0], 28, 28,1))\n",
        "x_test = x_test.reshape((x_test.shape[0], 28, 28,1))\n",
        "print(x_train.shape)\n",
        "print(x_test.shape)"
      ],
      "execution_count": 11,
      "outputs": [
        {
          "output_type": "stream",
          "text": [
            "(60000, 28, 28, 1)\n",
            "(10000, 28, 28, 1)\n"
          ],
          "name": "stdout"
        }
      ]
    },
    {
      "metadata": {
        "id": "6IrvJ_yV6PS2",
        "colab_type": "code",
        "colab": {}
      },
      "cell_type": "code",
      "source": [
        "from keras.models import Sequential\n",
        "from keras.layers import Conv2D\n",
        "from keras.layers import MaxPooling2D\n",
        "from keras.layers import Flatten\n",
        "from keras.layers import Dense\n",
        "from keras.layers import Dropout"
      ],
      "execution_count": 0,
      "outputs": []
    },
    {
      "metadata": {
        "id": "xr-bf7dA6Rge",
        "colab_type": "code",
        "colab": {}
      },
      "cell_type": "code",
      "source": [
        "model = Sequential()\n",
        "\n",
        "# step 1 adding Conv layer\n",
        "model.add(Conv2D(filters = 32,\n",
        "                 kernel_size = (3, 3),\n",
        "                 activation = 'relu',\n",
        "                 input_shape = (28, 28, 1)))\n",
        "\n",
        "# step 2 pooling step\n",
        "model.add(MaxPooling2D(pool_size = (2, 2)))\n",
        "\n",
        "# second conv layer\n",
        "model.add(Conv2D(filters = 64,\n",
        "                 kernel_size = (3, 3),\n",
        "                 activation = 'relu'))\n",
        "model.add(MaxPooling2D(pool_size = (2, 2)))\n",
        "model.add(Dropout(0.25))\n",
        "\n",
        "# step 3 flattening\n",
        "model.add(Flatten())\n",
        "\n",
        "# step 4 FULL CONNECTED LAYER\n",
        "model.add(Dense(units = 128, activation = 'relu'))\n",
        "model.add(Dropout(0.5))\n",
        "\n",
        "model.add(Dense(units = 10, activation = 'softmax'))\n",
        "\n",
        "# step 5 compiling\n",
        "model.compile(optimizer = 'rmsprop',\n",
        "              loss = 'categorical_crossentropy',\n",
        "              metrics = ['accuracy'])"
      ],
      "execution_count": 0,
      "outputs": []
    },
    {
      "metadata": {
        "id": "6TJQnaYYDhky",
        "colab_type": "code",
        "colab": {
          "base_uri": "https://localhost:8080/",
          "height": 395
        },
        "outputId": "e047df5e-c458-4291-9406-cb038929722a"
      },
      "cell_type": "code",
      "source": [
        "history = model.fit(x = x_train, \n",
        "                    y = y_train,\n",
        "                    epochs = 10,\n",
        "                    batch_size = 128,\n",
        "                    validation_data=(x_test, y_test))"
      ],
      "execution_count": 14,
      "outputs": [
        {
          "output_type": "stream",
          "text": [
            "Train on 60000 samples, validate on 10000 samples\n",
            "Epoch 1/10\n",
            "60000/60000 [==============================] - 62s 1ms/step - loss: 0.2817 - acc: 0.9130 - val_loss: 0.0586 - val_acc: 0.9803\n",
            "Epoch 2/10\n",
            "60000/60000 [==============================] - 60s 999us/step - loss: 0.0954 - acc: 0.9719 - val_loss: 0.0411 - val_acc: 0.9861\n",
            "Epoch 3/10\n",
            "60000/60000 [==============================] - 60s 994us/step - loss: 0.0719 - acc: 0.9789 - val_loss: 0.0385 - val_acc: 0.9873\n",
            "Epoch 4/10\n",
            "60000/60000 [==============================] - 60s 994us/step - loss: 0.0603 - acc: 0.9820 - val_loss: 0.0378 - val_acc: 0.9879\n",
            "Epoch 5/10\n",
            "60000/60000 [==============================] - 60s 994us/step - loss: 0.0520 - acc: 0.9845 - val_loss: 0.0288 - val_acc: 0.9904\n",
            "Epoch 6/10\n",
            "60000/60000 [==============================] - 61s 1ms/step - loss: 0.0472 - acc: 0.9860 - val_loss: 0.0267 - val_acc: 0.9905\n",
            "Epoch 7/10\n",
            "60000/60000 [==============================] - 59s 989us/step - loss: 0.0459 - acc: 0.9861 - val_loss: 0.0266 - val_acc: 0.9916\n",
            "Epoch 8/10\n",
            "60000/60000 [==============================] - 59s 988us/step - loss: 0.0419 - acc: 0.9875 - val_loss: 0.0248 - val_acc: 0.9914\n",
            "Epoch 9/10\n",
            "60000/60000 [==============================] - 59s 987us/step - loss: 0.0387 - acc: 0.9887 - val_loss: 0.0248 - val_acc: 0.9924\n",
            "Epoch 10/10\n",
            "60000/60000 [==============================] - 59s 991us/step - loss: 0.0397 - acc: 0.9881 - val_loss: 0.0269 - val_acc: 0.9917\n"
          ],
          "name": "stdout"
        }
      ]
    },
    {
      "metadata": {
        "id": "IAEti76TDjNf",
        "colab_type": "code",
        "colab": {}
      },
      "cell_type": "code",
      "source": [
        "score = model.evaluate(x_test, y_test, verbose=0)"
      ],
      "execution_count": 0,
      "outputs": []
    },
    {
      "metadata": {
        "id": "XSBhLG9gF8-g",
        "colab_type": "code",
        "colab": {
          "base_uri": "https://localhost:8080/",
          "height": 35
        },
        "outputId": "c261c9d7-161d-495c-b68d-6e1ae8796d98"
      },
      "cell_type": "code",
      "source": [
        "score"
      ],
      "execution_count": 16,
      "outputs": [
        {
          "output_type": "execute_result",
          "data": {
            "text/plain": [
              "[0.0268633246298572, 0.9917]"
            ]
          },
          "metadata": {
            "tags": []
          },
          "execution_count": 16
        }
      ]
    },
    {
      "metadata": {
        "id": "5IGRNWsxq_An",
        "colab_type": "code",
        "colab": {}
      },
      "cell_type": "code",
      "source": [
        "predict = model.predict(x_test)"
      ],
      "execution_count": 0,
      "outputs": []
    },
    {
      "metadata": {
        "id": "vlknNE-EaGZ9",
        "colab_type": "code",
        "colab": {
          "base_uri": "https://localhost:8080/",
          "height": 251
        },
        "outputId": "86ce3d04-66de-454d-c6de-f25c520ce145"
      },
      "cell_type": "code",
      "source": [
        "predict"
      ],
      "execution_count": 18,
      "outputs": [
        {
          "output_type": "execute_result",
          "data": {
            "text/plain": [
              "array([[2.3430249e-10, 1.1031107e-09, 1.2546639e-07, ..., 9.9999976e-01,\n",
              "        2.2946749e-11, 7.6921971e-08],\n",
              "       [3.4058559e-07, 1.7347226e-08, 9.9999964e-01, ..., 3.2772932e-10,\n",
              "        8.0426693e-10, 2.1398664e-12],\n",
              "       [4.3739430e-08, 9.9984837e-01, 1.8946391e-06, ..., 4.0051927e-05,\n",
              "        1.9089928e-06, 1.2132723e-06],\n",
              "       ...,\n",
              "       [4.8595948e-16, 1.3042008e-08, 1.8982125e-12, ..., 1.3554321e-09,\n",
              "        7.6870617e-09, 1.5072887e-08],\n",
              "       [3.7381839e-10, 4.1516543e-12, 7.9612461e-13, ..., 6.2529946e-12,\n",
              "        2.1397625e-06, 1.4273511e-09],\n",
              "       [7.5382367e-09, 2.5328481e-11, 1.5585848e-09, ..., 2.9619657e-16,\n",
              "        7.0504896e-10, 9.5966143e-14]], dtype=float32)"
            ]
          },
          "metadata": {
            "tags": []
          },
          "execution_count": 18
        }
      ]
    },
    {
      "metadata": {
        "id": "J_-FDBhGaHcf",
        "colab_type": "code",
        "colab": {}
      },
      "cell_type": "code",
      "source": [
        ""
      ],
      "execution_count": 0,
      "outputs": []
    }
  ]
}