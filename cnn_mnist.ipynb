{
  "nbformat": 4,
  "nbformat_minor": 0,
  "metadata": {
    "colab": {
      "name": "cnn_mnist.ipynb",
      "version": "0.3.2",
      "provenance": []
    },
    "kernelspec": {
      "name": "python3",
      "display_name": "Python 3"
    },
    "accelerator": "TPU"
  },
  "cells": [
    {
      "metadata": {
        "id": "2JP_agzz6AAp",
        "colab_type": "code",
        "colab": {}
      },
      "cell_type": "code",
      "source": [
        "import numpy as np\n",
        "import pandas as pd"
      ],
      "execution_count": 0,
      "outputs": []
    },
    {
      "metadata": {
        "id": "0n3wOWmG2a9l",
        "colab_type": "code",
        "colab": {}
      },
      "cell_type": "code",
      "source": [
        "import keras\n",
        "from keras.datasets import mnist\n",
        "from keras.utils import np_utils\n",
        "(x_train, y_train), (x_test, y_test) = mnist.load_data()"
      ],
      "execution_count": 0,
      "outputs": []
    },
    {
      "metadata": {
        "id": "wBoPHK6DCZn9",
        "colab_type": "code",
        "colab": {}
      },
      "cell_type": "code",
      "source": [
        "x_train = x_train.astype('float32')\n",
        "x_test = x_test.astype('float32')\n",
        "from sklearn.\n",
        "x_train /= 255\n",
        "x_test /= 255"
      ],
      "execution_count": 0,
      "outputs": []
    },
    {
      "metadata": {
        "id": "VkH20GZDCTYl",
        "colab_type": "code",
        "colab": {}
      },
      "cell_type": "code",
      "source": [
        "y_train = np_utils.to_categorical(y_train, 10)\n",
        "y_test = np_utils.to_categorical(y_test, 10)"
      ],
      "execution_count": 0,
      "outputs": []
    },
    {
      "metadata": {
        "id": "9bATSiVnFZ_n",
        "colab_type": "code",
        "colab": {
          "base_uri": "https://localhost:8080/",
          "height": 51
        },
        "outputId": "49bf173b-ffae-48b8-ac81-b76a450be0c2"
      },
      "cell_type": "code",
      "source": [
        "x_train = x_train.reshape((x_train.shape[0], 28, 28,1))\n",
        "x_test = x_test.reshape((x_test.shape[0], 28, 28,1))\n",
        "print(x_train.shape)\n",
        "print(x_test.shape)"
      ],
      "execution_count": 31,
      "outputs": [
        {
          "output_type": "stream",
          "text": [
            "(60000, 28, 28, 1)\n",
            "(10000, 28, 28, 1)\n"
          ],
          "name": "stdout"
        }
      ]
    },
    {
      "metadata": {
        "id": "6IrvJ_yV6PS2",
        "colab_type": "code",
        "colab": {}
      },
      "cell_type": "code",
      "source": [
        "from keras.models import Sequential\n",
        "from keras.layers import Conv2D\n",
        "from keras.layers import MaxPooling2D\n",
        "from keras.layers import Flatten\n",
        "from keras.layers import Dense\n",
        "from keras.layers import Dropout"
      ],
      "execution_count": 0,
      "outputs": []
    },
    {
      "metadata": {
        "id": "xr-bf7dA6Rge",
        "colab_type": "code",
        "colab": {}
      },
      "cell_type": "code",
      "source": [
        "model = Sequential()\n",
        "\n",
        "# step 1 adding Conv layer\n",
        "model.add(Conv2D(filters = 32,\n",
        "                 kernel_size = (3, 3),\n",
        "                 activation = 'relu',\n",
        "                 input_shape = (28, 28, 1)))\n",
        "\n",
        "# step 2 pooling step\n",
        "model.add(MaxPooling2D(pool_size = (2, 2)))\n",
        "\n",
        "# second conv layer\n",
        "model.add(Conv2D(filters = 64,\n",
        "                 kernel_size = (3, 3),\n",
        "                 activation = 'relu'))\n",
        "model.add(MaxPooling2D(pool_size = (2, 2)))\n",
        "model.add(Dropout(0.25))\n",
        "\n",
        "# step 3 flattening\n",
        "model.add(Flatten())\n",
        "\n",
        "# step 4 FULL CONNECTED LAYER\n",
        "model.add(Dense(units = 128, activation = 'relu'))\n",
        "model.add(Dropout(0.5))\n",
        "\n",
        "model.add(Dense(units = 10, activation = 'softmax'))\n",
        "\n",
        "# step 5 compiling\n",
        "model.compile(optimizer = 'rmsprop',\n",
        "              loss = 'categorical_crossentropy',\n",
        "              metrics = ['accuracy'])"
      ],
      "execution_count": 0,
      "outputs": []
    },
    {
      "metadata": {
        "id": "6TJQnaYYDhky",
        "colab_type": "code",
        "colab": {
          "base_uri": "https://localhost:8080/",
          "height": 374
        },
        "outputId": "4234ef79-1f7d-4cbc-d4aa-ff0036cb6a70"
      },
      "cell_type": "code",
      "source": [
        "history = model.fit(x = x_train, \n",
        "                    y = y_train,\n",
        "                    epochs = 10,\n",
        "                    batch_size = 128,\n",
        "                    validation_data=(x_test, y_test))"
      ],
      "execution_count": 35,
      "outputs": [
        {
          "output_type": "stream",
          "text": [
            "Train on 60000 samples, validate on 10000 samples\n",
            "Epoch 1/10\n",
            "60000/60000 [==============================] - 69s 1ms/step - loss: 0.2858 - acc: 0.9127 - val_loss: 0.0586 - val_acc: 0.9818\n",
            "Epoch 2/10\n",
            "60000/60000 [==============================] - 69s 1ms/step - loss: 0.1031 - acc: 0.9695 - val_loss: 0.0408 - val_acc: 0.9860\n",
            "Epoch 3/10\n",
            "60000/60000 [==============================] - 68s 1ms/step - loss: 0.0752 - acc: 0.9778 - val_loss: 0.0331 - val_acc: 0.9881\n",
            "Epoch 4/10\n",
            "60000/60000 [==============================] - 68s 1ms/step - loss: 0.0610 - acc: 0.9814 - val_loss: 0.0315 - val_acc: 0.9886\n",
            "Epoch 5/10\n",
            "60000/60000 [==============================] - 68s 1ms/step - loss: 0.0539 - acc: 0.9836 - val_loss: 0.0343 - val_acc: 0.9889\n",
            "Epoch 6/10\n",
            "60000/60000 [==============================] - 70s 1ms/step - loss: 0.0493 - acc: 0.9852 - val_loss: 0.0343 - val_acc: 0.9896\n",
            "Epoch 7/10\n",
            "60000/60000 [==============================] - 67s 1ms/step - loss: 0.0457 - acc: 0.9861 - val_loss: 0.0270 - val_acc: 0.9917\n",
            "Epoch 8/10\n",
            "60000/60000 [==============================] - 67s 1ms/step - loss: 0.0423 - acc: 0.9875 - val_loss: 0.0251 - val_acc: 0.9926\n",
            "Epoch 9/10\n",
            "60000/60000 [==============================] - 67s 1ms/step - loss: 0.0398 - acc: 0.9885 - val_loss: 0.0268 - val_acc: 0.9922\n",
            "Epoch 10/10\n",
            "60000/60000 [==============================] - 67s 1ms/step - loss: 0.0394 - acc: 0.9885 - val_loss: 0.0256 - val_acc: 0.9926\n"
          ],
          "name": "stdout"
        }
      ]
    },
    {
      "metadata": {
        "id": "IAEti76TDjNf",
        "colab_type": "code",
        "colab": {}
      },
      "cell_type": "code",
      "source": [
        "score = model.evaluate(x_test, y_test, verbose=0)"
      ],
      "execution_count": 0,
      "outputs": []
    },
    {
      "metadata": {
        "id": "XSBhLG9gF8-g",
        "colab_type": "code",
        "colab": {
          "base_uri": "https://localhost:8080/",
          "height": 34
        },
        "outputId": "a0d8bb0b-c9e0-4765-daa0-b8740fe98d5f"
      },
      "cell_type": "code",
      "source": [
        "score"
      ],
      "execution_count": 37,
      "outputs": [
        {
          "output_type": "execute_result",
          "data": {
            "text/plain": [
              "[0.025567490779465515, 0.9926]"
            ]
          },
          "metadata": {
            "tags": []
          },
          "execution_count": 37
        }
      ]
    },
    {
      "metadata": {
        "id": "5IGRNWsxq_An",
        "colab_type": "code",
        "colab": {}
      },
      "cell_type": "code",
      "source": [
        "predict = model.predict(x_test)"
      ],
      "execution_count": 0,
      "outputs": []
    },
    {
      "metadata": {
        "id": "vlknNE-EaGZ9",
        "colab_type": "code",
        "colab": {
          "base_uri": "https://localhost:8080/",
          "height": 238
        },
        "outputId": "3f58127c-b90e-40f2-db12-15c17fc2df07"
      },
      "cell_type": "code",
      "source": [
        "predict"
      ],
      "execution_count": 51,
      "outputs": [
        {
          "output_type": "execute_result",
          "data": {
            "text/plain": [
              "array([[0.0000000e+00, 0.0000000e+00, 0.0000000e+00, ..., 1.0000000e+00,\n",
              "        0.0000000e+00, 0.0000000e+00],\n",
              "       [0.0000000e+00, 0.0000000e+00, 1.0000000e+00, ..., 0.0000000e+00,\n",
              "        0.0000000e+00, 0.0000000e+00],\n",
              "       [0.0000000e+00, 1.0000000e+00, 0.0000000e+00, ..., 1.4047791e-34,\n",
              "        4.8389167e-30, 0.0000000e+00],\n",
              "       ...,\n",
              "       [0.0000000e+00, 0.0000000e+00, 0.0000000e+00, ..., 0.0000000e+00,\n",
              "        0.0000000e+00, 0.0000000e+00],\n",
              "       [0.0000000e+00, 0.0000000e+00, 0.0000000e+00, ..., 0.0000000e+00,\n",
              "        5.7021492e-26, 3.1109949e-35],\n",
              "       [3.6012774e-37, 0.0000000e+00, 0.0000000e+00, ..., 0.0000000e+00,\n",
              "        3.3372870e-38, 0.0000000e+00]], dtype=float32)"
            ]
          },
          "metadata": {
            "tags": []
          },
          "execution_count": 51
        }
      ]
    },
    {
      "metadata": {
        "id": "J_-FDBhGaHcf",
        "colab_type": "code",
        "colab": {}
      },
      "cell_type": "code",
      "source": [
        ""
      ],
      "execution_count": 0,
      "outputs": []
    }
  ]
}